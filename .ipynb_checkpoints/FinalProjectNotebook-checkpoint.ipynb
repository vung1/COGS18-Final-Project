{
 "cells": [
  {
   "cell_type": "markdown",
   "metadata": {},
   "source": [
    "# Final Project Notebook"
   ]
  },
  {
   "cell_type": "markdown",
   "metadata": {},
   "source": [
    "For my final project, I decided to create a game that was simple and easy to play for everyone. The game is always played on a grid of size *m x n* where the starting location will be at the top left of the grid located at (0, 0). The ending location is at the bottom right corner of the grid. When you play the game, the objective of the game is to get to the ending location. However, your player can only move left, up, right, and down and MUST move in that direction until they win the game, hit the edge of the board and can no longer move in that direction, or an obstacle prevents them from moving further in that direction. When you run into an obstacle, you can not skip over it so you must move in a different direction. The possible directions that you can move is one where the adjacent squares are empty.\n",
    "\n",
    "In the game, you can see that the starting location will always be marked with \"S\" and the ending location marked with \"F\". The location that your player is currently at on the board is marked by \"O\". All the previous locations that your player has visited is marked by \".\" and this is referred to as the trail. Each time your player moves towards a specific direction, a trail of where the player has been is left behind and the player can never be on the same trail again. This means that once a square is marked with \".\" you can never go on that square again.\n",
    "\n",
    "I tried to make the game more interactive with the user by allowing the player to play the game by interacting with their keyboard instead of having to type in an input each time. \n",
    "\n",
    "I hope you enjoy playing the game!"
   ]
  },
  {
   "cell_type": "markdown",
   "metadata": {},
   "source": [
    "## Project Code\n",
    "\n",
    "### Important\n",
    "Do not press x (lower case x) in jupyter notebook because it will delete the cell. Also when playing the game, since the up and down arrow keys are also a keyboard shortcut in jupyter notebook, it will move around cells when playing the game. Although this is fine, it might get kind of messy since you are jumping between cells while playing the game. If you wish to play the game with a better experience, then you can temporarily disable this keyboard shortcut by following these steps. Press Help on the top next to Widgets and do the following: \\\n",
    "Help -> Edit Keyboard Shortcuts -> next to select previous cell (DOWN) and select next cell (UP) you can remove them. \\\n",
    "After you are done playing the game, you may add them back in.\n",
    "\n",
    "To play the game, you must interact with the keyboard and these are the possible keys you can press on your keyboard with their functionalities:\n",
    "\n",
    "- **Right arrow key:** moves the player right\n",
    "- **Left arrow key:** moves the player left\n",
    "- **Up arrow key:** moves the player up\n",
    "- **Down arrow key:** moves the player down\n",
    "- **X:** allows the player to add obstacles on the board. When you press X, an input box will appear to ask you to type the number of obstalces you want to add to your board. Please enter whole numbers only! If you enter a number that is negative or if you enter more obstacles than there are space available on the board, it will prompt you to enter a new number. After entering the number, you should see that many obstacles appear on your board.\n",
    "- **Q** or **q**: Quits the game"
   ]
  },
  {
   "cell_type": "code",
   "execution_count": 2,
   "metadata": {},
   "outputs": [],
   "source": [
    "# from my_module.functions import ...\n",
    "# from my_module.class|es import ...\n",
    "from my_module.functions import GameBoard"
   ]
  },
  {
   "cell_type": "code",
   "execution_count": 2,
   "metadata": {},
   "outputs": [
    {
     "name": "stdout",
     "output_type": "stream",
     "text": [
      ". . .\n",
      "    .\n",
      "    O\n",
      "Congratulations, you have won the game!\n"
     ]
    }
   ],
   "source": [
    "# playing the game on a small board\n",
    "game = GameBoard(3, 3)\n",
    "game.play_game()"
   ]
  },
  {
   "cell_type": "code",
   "execution_count": 3,
   "metadata": {},
   "outputs": [
    {
     "name": "stdout",
     "output_type": "stream",
     "text": [
      "O X  \n",
      "X    \n",
      "    F\n",
      "Unfortunately, you did not beat the game :(\n"
     ]
    }
   ],
   "source": [
    "# playing the game on a small board with some random obstacles prepopulated \n",
    "game = GameBoard(3, 3)\n",
    "game.add_random_obstacles(2)\n",
    "game.play_game()"
   ]
  },
  {
   "cell_type": "code",
   "execution_count": 4,
   "metadata": {},
   "outputs": [
    {
     "name": "stdout",
     "output_type": "stream",
     "text": [
      ". . X\n",
      "  .  \n",
      "  . O\n",
      "Congratulations, you have won the game!\n"
     ]
    }
   ],
   "source": [
    "# playing the game while adding random obstacles during the game\n",
    "game = GameBoard(3, 3)\n",
    "game.play_game()"
   ]
  },
  {
   "cell_type": "code",
   "execution_count": 5,
   "metadata": {},
   "outputs": [
    {
     "name": "stdout",
     "output_type": "stream",
     "text": [
      ". . . . . . . . . .\n",
      "                  .\n",
      "                  .\n",
      "                  .\n",
      "                  .\n",
      "                  .\n",
      "                  .\n",
      "                  .\n",
      "                  .\n",
      "                  O\n",
      "Congratulations, you have won the game!\n"
     ]
    }
   ],
   "source": [
    "# playing the game on default board size\n",
    "game = GameBoard()\n",
    "game.play_game()"
   ]
  },
  {
   "cell_type": "code",
   "execution_count": 5,
   "metadata": {},
   "outputs": [
    {
     "name": "stdout",
     "output_type": "stream",
     "text": [
      ".                  \n",
      ".                  \n",
      ". . . . . . . . . .\n",
      "X                 .\n",
      "    X             .\n",
      "                  .\n",
      "X                 .\n",
      "                  .\n",
      "                  .\n",
      "                  O\n",
      "Congratulations, you have won the game!\n"
     ]
    }
   ],
   "source": [
    "# playing the game on default board size with some random obstacles prepopulated\n",
    "game = GameBoard()\n",
    "game.add_random_obstacles()\n",
    "game.play_game()"
   ]
  },
  {
   "cell_type": "code",
   "execution_count": 6,
   "metadata": {},
   "outputs": [
    {
     "name": "stdout",
     "output_type": "stream",
     "text": [
      ". . X           X  \n",
      "O .         X      \n",
      ". .               X\n",
      ". .     X   X      \n",
      ". .         X X    \n",
      ". . X     X        \n",
      ". .                \n",
      ". . X X            \n",
      ". .           X   X\n",
      ". . X             F\n",
      "Unfortunately, you did not beat the game :(\n"
     ]
    }
   ],
   "source": [
    "# playing the game on default board size with some random obstacles prepopulated\n",
    "game = GameBoard()\n",
    "game.play_game()"
   ]
  },
  {
   "cell_type": "code",
   "execution_count": 4,
   "metadata": {},
   "outputs": [
    {
     "name": "stdout",
     "output_type": "stream",
     "text": [
      ". . . . . . . . . . . . . . .\n",
      "                            .\n",
      "                            .\n",
      "                            .\n",
      "                            .\n",
      "                            .\n",
      "                            .\n",
      "                            .\n",
      "                            .\n",
      "                            .\n",
      "                            .\n",
      "                            .\n",
      "                            .\n",
      "                            .\n",
      "                            .\n",
      "                            .\n",
      "                            .\n",
      "                            .\n",
      "                            .\n",
      "                            O\n",
      "Congratulations, you have won the game!\n"
     ]
    }
   ],
   "source": [
    "# playing the game on a big board with different width and height\n",
    "game = GameBoard(15, 20)\n",
    "game.play_game()"
   ]
  },
  {
   "cell_type": "code",
   "execution_count": 9,
   "metadata": {},
   "outputs": [
    {
     "name": "stdout",
     "output_type": "stream",
     "text": [
      ". . . . . . . . . . . . . . .\n",
      "X             X X           .\n",
      ". . . . . . . . . . . . . . .\n",
      ".                           X\n",
      ".         X                  \n",
      ".                            \n",
      ".                   X        \n",
      ".             X       X      \n",
      ". X                 X        \n",
      ".                            \n",
      ".                            \n",
      ".       X                    \n",
      ". . . . . . . . . X          \n",
      "X . . . . . .   .           X\n",
      "  .         . X . X          \n",
      "  .         .   .            \n",
      "  .         .   .            \n",
      "X .         .   . X     X    \n",
      "O .         .   .            \n",
      ". .       X . . .           F\n",
      "Unfortunately, you did not beat the game :(\n"
     ]
    }
   ],
   "source": [
    "# playing the game on a big board with different width and height that has prepopulatd random obstacles\n",
    "game = GameBoard(15, 20)\n",
    "game.add_random_obstacles(20)\n",
    "game.play_game()"
   ]
  },
  {
   "cell_type": "code",
   "execution_count": 10,
   "metadata": {},
   "outputs": [
    {
     "name": "stdout",
     "output_type": "stream",
     "text": [
      ". . . . . . . . . . . . . . .\n",
      "                            .\n",
      "          X X               .\n",
      "  X                         .\n",
      "        X         X         .\n",
      "                            .\n",
      "              X             .\n",
      "            X     X X       .\n",
      "          X           X     .\n",
      "      X                     .\n",
      "    X             X   X     .\n",
      "                  X         .\n",
      "                      X     .\n",
      "X . . . . . . . . . . . . . .\n",
      "  . . . . X           X     X\n",
      "  X     .         X   . . . .\n",
      "X       . X           .   X .\n",
      "        . X           .     .\n",
      "    X   .             .     .\n",
      "        . . . . . . . . X X O\n",
      "Congratulations, you have won the game!\n"
     ]
    }
   ],
   "source": [
    "# playing the game on a big board with different width and height with random obstacles added during game\n",
    "game = GameBoard(15, 20)\n",
    "game.play_game()"
   ]
  },
  {
   "cell_type": "code",
   "execution_count": 12,
   "metadata": {},
   "outputs": [
    {
     "name": "stdout",
     "output_type": "stream",
     "text": [
      ". . . X X X  \n",
      "    . . . . O\n",
      "X   X   X   X\n",
      "          X  \n",
      "  X X       F\n",
      "You have quit the game!\n"
     ]
    }
   ],
   "source": [
    "# quits the game\n",
    "game = GameBoard(7, 5)\n",
    "game.add_random_obstacles(10)\n",
    "game.play_game()"
   ]
  },
  {
   "cell_type": "markdown",
   "metadata": {},
   "source": [
    "## Testing Section"
   ]
  },
  {
   "cell_type": "markdown",
   "metadata": {},
   "source": [
    "This will run all the test functions in test_functions.py"
   ]
  },
  {
   "cell_type": "code",
   "execution_count": 3,
   "metadata": {},
   "outputs": [
    {
     "name": "stdout",
     "output_type": "stream",
     "text": [
      "============================= test session starts =============================\n",
      "platform win32 -- Python 3.7.6, pytest-5.3.5, py-1.8.1, pluggy-0.13.1\n",
      "rootdir: C:\\Users\\victo\\Desktop\\COGS18-Final-Project\n",
      "plugins: hypothesis-5.5.4, arraydiff-0.3, astropy-header-0.1.2, doctestplus-0.5.0, openfiles-0.4.0, remotedata-0.3.2\n",
      "collected 9 items\n",
      "\n",
      "my_module\\test_functions.py .........                                    [100%]\n",
      "\n",
      "============================== 9 passed in 0.30s ==============================\n"
     ]
    }
   ],
   "source": [
    "! pytest my_module/test_functions.py"
   ]
  },
  {
   "cell_type": "markdown",
   "metadata": {},
   "source": [
    "#### Extra Credit (*optional*)\n",
    "\n",
    "Replace all of this text with a brief explanation (~3 sentences) of: \n",
    "1. I have never coded in python prior to this class but I did learn some python syntax while I was taking CSE 15L for about a week.\n",
    "2. For my final project, I could have simply used input() to take input from the user and move the player in the direction inputted. However, I wanted to simulate a more real life experience where you play video games by interacting with the keyboard and by pressing a certain key, then certain actions appear on the screen. Therefore I had to research which module I could use to achieve this. In the beginning I was using pynput but it did not work out well so I found another module called keyboard. I had to use it so that when pressing arrow keys on the keyboard, the player would actually move. I had trouble where I put the is_pressed method in my play_game function because the game would be updating the board state without waiting for a keyboard input. Therefore I did some research and by putting it inside a while loop with break statements, I could achieve this functionality."
   ]
  }
 ],
 "metadata": {
  "kernelspec": {
   "display_name": "Python 3",
   "language": "python",
   "name": "python3"
  },
  "language_info": {
   "codemirror_mode": {
    "name": "ipython",
    "version": 3
   },
   "file_extension": ".py",
   "mimetype": "text/x-python",
   "name": "python",
   "nbconvert_exporter": "python",
   "pygments_lexer": "ipython3",
   "version": "3.7.6"
  }
 },
 "nbformat": 4,
 "nbformat_minor": 4
}
